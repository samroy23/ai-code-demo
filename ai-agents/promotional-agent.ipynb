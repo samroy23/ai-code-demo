{
 "cells": [
  {
   "cell_type": "code",
   "execution_count": null,
   "id": "bb21a858",
   "metadata": {},
   "outputs": [],
   "source": [
    "# pip install openai==0.28\n",
    "import openai\n",
    "# from openai import OpenAI\n",
    "import os\n",
    "import logging\n",
    "from langchain.prompts import PromptTemplate\n",
    "import pandas as pd\n",
    "from dotenv import load_dotenv\n",
    "from flask import Flask, request, jsonify"
   ]
  },
  {
   "cell_type": "code",
   "execution_count": 2,
   "id": "298912dd",
   "metadata": {},
   "outputs": [],
   "source": [
    "load_dotenv()\n",
    "azure_openai_deployment = os.getenv(\"AZURE_OPENAI_DEPLOYMENT\")\n",
    "azure_openai_key = os.getenv(\"AZURE_OPENAI_KEY\")\n",
    "azure_openai_endpoint = os.getenv(\"AZURE_OPENAI_ENDPOINT\")\n",
    "# Set up logging configuration\n",
    "logger = logging.getLogger(__name__)\n",
    "logging.basicConfig(level=logging.INFO, format='%(asctime)s - %(levelname)s - %(message)s')\n",
    "\n",
    "# Configure OpenAI with Azure settings\n",
    "openai.api_type = \"azure\"\n",
    "openai.api_key = azure_openai_key\n",
    "openai.api_base = azure_openai_endpoint\n",
    "openai.api_version = \"2023-05-15\"\n",
    "# client = OpenAI(api_key=azure_openai_key)"
   ]
  },
  {
   "cell_type": "code",
   "execution_count": 33,
   "id": "eea60df2",
   "metadata": {},
   "outputs": [],
   "source": [
    "# # Load inventory data (example CSV file)\n",
    "# inventory_data = pd.DataFrame({\n",
    "#     \"product_id\": [1, 2, 3],\n",
    "#     \"product_name\": [\"Widget A\", \"Widget B\", \"Widget C\"],\n",
    "#     \"stock_level\": [500, 200, 50],\n",
    "#     \"sales_last_month\": [50, 150, 45]\n",
    "# })\n",
    "\n",
    "# # Define overstock threshold\n",
    "# OVERSTOCK_THRESHOLD = 300\n",
    "\n",
    "# # Initialize OpenAI GPT model\n",
    "# llm = openai(model=\"gpt-4\", temperature=0.7)\n",
    "# llm = openai(\n",
    "#         engine=azure_openai_deployment,\n",
    "#         messages=messages,\n",
    "#         temperature=0.7,\n",
    "#         max_tokens=800\n",
    "#     )\n",
    "\n",
    "# # Define a function to detect overstock\n",
    "# def detect_overstock(data):\n",
    "#     overstocked_items = data[data[\"stock_level\"] > OVERSTOCK_THRESHOLD]\n",
    "#     return overstocked_items\n",
    "\n",
    "# # Define a function to generate promotional discounts\n",
    "# def generate_promotions(overstocked_items):\n",
    "#     promotions = []\n",
    "#     for _, row in overstocked_items.iterrows():\n",
    "#         prompt = PromptTemplate(\n",
    "#             input_variables=[\"product_name\", \"stock_level\"],\n",
    "#             template=(\n",
    "#                 \"The product '{product_name}' has a stock level of {stock_level}, \"\n",
    "#                 \"which is above the threshold. Suggest a promotional discount strategy.\"\n",
    "#             )\n",
    "#         )\n",
    "#         response = llm(prompt.format(product_name=row[\"product_name\"], stock_level=row[\"stock_level\"]))\n",
    "#         promotions.append({\"product_id\": row[\"product_id\"], \"promotion\": response})\n",
    "#     return promotions\n",
    "\n",
    "# # Detect overstocked items\n",
    "# overstocked_items = detect_overstock(inventory_data)\n",
    "\n",
    "# # Generate promotions for overstocked items\n",
    "# if not overstocked_items.empty:\n",
    "#     promotions = generate_promotions(overstocked_items)\n",
    "#     for promo in promotions:\n",
    "#         print(f\"Product ID: {promo['product_id']}, Promotion: {promo['promotion']}\")\n",
    "# else:\n",
    "#     print(\"No overstock detected.\")"
   ]
  },
  {
   "cell_type": "markdown",
   "id": "455e5c70",
   "metadata": {},
   "source": [
    "# Price Optimization Agent\n",
    "This section demonstrates how to use the Azure OpenAI deployed model to create a price optimization agent. The agent analyzes product data and suggests optimal pricing strategies based on stock levels, sales trends, and other factors."
   ]
  },
  {
   "cell_type": "code",
   "execution_count": 3,
   "id": "2a03639f",
   "metadata": {},
   "outputs": [],
   "source": [
    "# Define a function for price optimization\n",
    "def optimize_price(product_name, stock_level, sales_last_month):\n",
    "    try:        \n",
    "        prompt = PromptTemplate(\n",
    "            input_variables=['product_name', 'stock_level', 'sales_last_month'],\n",
    "            template=(\n",
    "                \"The product '{product_name}' has a stock level of {stock_level} and sales last month were {sales_last_month}. \"\n",
    "                \"Suggest an optimal pricing strategy to maximize revenue and reduce overstock.\"\n",
    "            )\n",
    "        )\n",
    "        response = openai.ChatCompletion.create(\n",
    "                        engine=azure_openai_deployment,\n",
    "                        messages=[{\"role\": \"system\", \"content\": \"You are a pricing optimization assistant.\"},\n",
    "                                  {\"role\": \"user\", \"content\": prompt.format(product_name=product_name, stock_level=stock_level, sales_last_month=sales_last_month)}\n",
    "            ],\n",
    "            temperature=0.7,\n",
    "            max_tokens=800\n",
    "        )\n",
    "        ai_message = response['choices'][0]['message']['content']\n",
    "        return ai_message\n",
    "    except Exception as e:\n",
    "        logger.error(f\"Error in analyze-chat api: {str(e)}\")        \n",
    "        # Return a JSON response with the error message\n",
    "        return str(e)"
   ]
  },
  {
   "cell_type": "code",
   "execution_count": 4,
   "id": "391498ee",
   "metadata": {},
   "outputs": [
    {
     "name": "stderr",
     "output_type": "stream",
     "text": [
      "2025-04-28 11:41:07,972 - INFO - error_code=403 error_message='Access denied due to Virtual Network/Firewall rules.' error_param=None error_type=None message='OpenAI API error received' stream_error=False\n",
      "2025-04-28 11:41:07,972 - ERROR - Error in analyze-chat api: Access denied due to Virtual Network/Firewall rules.\n",
      "2025-04-28 11:41:07,972 - ERROR - Error in analyze-chat api: Access denied due to Virtual Network/Firewall rules.\n",
      "2025-04-28 11:41:08,240 - INFO - error_code=403 error_message='Access denied due to Virtual Network/Firewall rules.' error_param=None error_type=None message='OpenAI API error received' stream_error=False\n",
      "2025-04-28 11:41:08,243 - ERROR - Error in analyze-chat api: Access denied due to Virtual Network/Firewall rules.\n",
      "2025-04-28 11:41:08,240 - INFO - error_code=403 error_message='Access denied due to Virtual Network/Firewall rules.' error_param=None error_type=None message='OpenAI API error received' stream_error=False\n",
      "2025-04-28 11:41:08,243 - ERROR - Error in analyze-chat api: Access denied due to Virtual Network/Firewall rules.\n",
      "2025-04-28 11:41:08,489 - INFO - error_code=403 error_message='Access denied due to Virtual Network/Firewall rules.' error_param=None error_type=None message='OpenAI API error received' stream_error=False\n",
      "2025-04-28 11:41:08,489 - ERROR - Error in analyze-chat api: Access denied due to Virtual Network/Firewall rules.\n",
      "2025-04-28 11:41:08,489 - INFO - error_code=403 error_message='Access denied due to Virtual Network/Firewall rules.' error_param=None error_type=None message='OpenAI API error received' stream_error=False\n",
      "2025-04-28 11:41:08,489 - ERROR - Error in analyze-chat api: Access denied due to Virtual Network/Firewall rules.\n",
      "2025-04-28 11:41:09,056 - INFO - error_code=403 error_message='Access denied due to Virtual Network/Firewall rules.' error_param=None error_type=None message='OpenAI API error received' stream_error=False\n",
      "2025-04-28 11:41:09,057 - ERROR - Error in analyze-chat api: Access denied due to Virtual Network/Firewall rules.\n",
      "2025-04-28 11:41:09,056 - INFO - error_code=403 error_message='Access denied due to Virtual Network/Firewall rules.' error_param=None error_type=None message='OpenAI API error received' stream_error=False\n",
      "2025-04-28 11:41:09,057 - ERROR - Error in analyze-chat api: Access denied due to Virtual Network/Firewall rules.\n",
      "2025-04-28 11:41:09,314 - INFO - error_code=403 error_message='Access denied due to Virtual Network/Firewall rules.' error_param=None error_type=None message='OpenAI API error received' stream_error=False\n",
      "2025-04-28 11:41:09,315 - ERROR - Error in analyze-chat api: Access denied due to Virtual Network/Firewall rules.\n",
      "2025-04-28 11:41:09,314 - INFO - error_code=403 error_message='Access denied due to Virtual Network/Firewall rules.' error_param=None error_type=None message='OpenAI API error received' stream_error=False\n",
      "2025-04-28 11:41:09,315 - ERROR - Error in analyze-chat api: Access denied due to Virtual Network/Firewall rules.\n"
     ]
    },
    {
     "name": "stdout",
     "output_type": "stream",
     "text": [
      "Price optimization completed. Results saved to ai-agents/optimized_price_strategies.csv\n"
     ]
    }
   ],
   "source": [
    "import pandas as pd\n",
    "\n",
    "# Load the CSV data\n",
    "data_path = 'price_optimization_data.csv'\n",
    "data = pd.read_csv(data_path)\n",
    "\n",
    "# Iterate through the data and optimize prices\n",
    "optimized_results = []\n",
    "for index, row in data.iterrows():\n",
    "    product_name = row['Product Name']\n",
    "    stock_level = row['Stock Level']\n",
    "    sales_last_month = row['Sales Last Month']\n",
    "    optimal_price_strategy = optimize_price(product_name, stock_level, sales_last_month)\n",
    "    optimized_results.append({\n",
    "        'Product Name': product_name,\n",
    "        'Optimal Strategy': optimal_price_strategy\n",
    "    })\n",
    "\n",
    "# Convert results to a DataFrame\n",
    "optimized_df = pd.DataFrame(optimized_results)\n",
    "\n",
    "# Save the results to a new CSV file\n",
    "optimized_df.to_csv('optimized_price_strategies.csv', index=False)\n",
    "\n",
    "print('Price optimization completed. Results saved to ai-agents/optimized_price_strategies.csv')"
   ]
  },
  {
   "cell_type": "code",
   "execution_count": 9,
   "id": "7b0535bd",
   "metadata": {},
   "outputs": [
    {
     "data": {
      "text/plain": [
       "'e:\\\\projects\\\\capgemini-ai-agent\\\\ai-agents'"
      ]
     },
     "execution_count": 9,
     "metadata": {},
     "output_type": "execute_result"
    }
   ],
   "source": [
    "os.getcwd()"
   ]
  },
  {
   "cell_type": "code",
   "execution_count": null,
   "id": "610aeff3",
   "metadata": {},
   "outputs": [],
   "source": []
  }
 ],
 "metadata": {
  "kernelspec": {
   "display_name": ".venv",
   "language": "python",
   "name": "python3"
  },
  "language_info": {
   "codemirror_mode": {
    "name": "ipython",
    "version": 3
   },
   "file_extension": ".py",
   "mimetype": "text/x-python",
   "name": "python",
   "nbconvert_exporter": "python",
   "pygments_lexer": "ipython3",
   "version": "3.12.7"
  }
 },
 "nbformat": 4,
 "nbformat_minor": 5
}
